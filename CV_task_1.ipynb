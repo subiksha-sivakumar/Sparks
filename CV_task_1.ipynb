{
  "nbformat": 4,
  "nbformat_minor": 0,
  "metadata": {
    "colab": {
      "name": "CV_task_1.ipynb",
      "provenance": [],
      "authorship_tag": "ABX9TyOLKbFdqN3q5mlyH9GgaPFs",
      "include_colab_link": true
    },
    "kernelspec": {
      "name": "python3",
      "display_name": "Python 3"
    },
    "language_info": {
      "name": "python"
    },
    "widgets": {
      "application/vnd.jupyter.widget-state+json": {
        "a34ce1bece7c41f286fd471f9ad8aeef": {
          "model_module": "@jupyter-widgets/controls",
          "model_name": "HBoxModel",
          "state": {
            "_view_name": "HBoxView",
            "_dom_classes": [],
            "_model_name": "HBoxModel",
            "_view_module": "@jupyter-widgets/controls",
            "_model_module_version": "1.5.0",
            "_view_count": null,
            "_view_module_version": "1.5.0",
            "box_style": "",
            "layout": "IPY_MODEL_096d72154a3348789aaabb702c185a9f",
            "_model_module": "@jupyter-widgets/controls",
            "children": [
              "IPY_MODEL_4dfe2ab5edce4bde8d316ad2174c0303",
              "IPY_MODEL_48ec5a16d51d4cf6ad0d9e6922497842"
            ]
          }
        },
        "096d72154a3348789aaabb702c185a9f": {
          "model_module": "@jupyter-widgets/base",
          "model_name": "LayoutModel",
          "state": {
            "_view_name": "LayoutView",
            "grid_template_rows": null,
            "right": null,
            "justify_content": null,
            "_view_module": "@jupyter-widgets/base",
            "overflow": null,
            "_model_module_version": "1.2.0",
            "_view_count": null,
            "flex_flow": null,
            "width": null,
            "min_width": null,
            "border": null,
            "align_items": null,
            "bottom": null,
            "_model_module": "@jupyter-widgets/base",
            "top": null,
            "grid_column": null,
            "overflow_y": null,
            "overflow_x": null,
            "grid_auto_flow": null,
            "grid_area": null,
            "grid_template_columns": null,
            "flex": null,
            "_model_name": "LayoutModel",
            "justify_items": null,
            "grid_row": null,
            "max_height": null,
            "align_content": null,
            "visibility": null,
            "align_self": null,
            "height": null,
            "min_height": null,
            "padding": null,
            "grid_auto_rows": null,
            "grid_gap": null,
            "max_width": null,
            "order": null,
            "_view_module_version": "1.2.0",
            "grid_template_areas": null,
            "object_position": null,
            "object_fit": null,
            "grid_auto_columns": null,
            "margin": null,
            "display": null,
            "left": null
          }
        },
        "4dfe2ab5edce4bde8d316ad2174c0303": {
          "model_module": "@jupyter-widgets/controls",
          "model_name": "FloatProgressModel",
          "state": {
            "_view_name": "ProgressView",
            "style": "IPY_MODEL_79b97e8170eb412aa2012cdb6472d00a",
            "_dom_classes": [],
            "description": "",
            "_model_name": "FloatProgressModel",
            "bar_style": "success",
            "max": 9912422,
            "_view_module": "@jupyter-widgets/controls",
            "_model_module_version": "1.5.0",
            "value": 9912422,
            "_view_count": null,
            "_view_module_version": "1.5.0",
            "orientation": "horizontal",
            "min": 0,
            "description_tooltip": null,
            "_model_module": "@jupyter-widgets/controls",
            "layout": "IPY_MODEL_b0337e68edb046e3b98f277e3df0cd6a"
          }
        },
        "48ec5a16d51d4cf6ad0d9e6922497842": {
          "model_module": "@jupyter-widgets/controls",
          "model_name": "HTMLModel",
          "state": {
            "_view_name": "HTMLView",
            "style": "IPY_MODEL_c1b511554e66421a9ce00d7de437d06f",
            "_dom_classes": [],
            "description": "",
            "_model_name": "HTMLModel",
            "placeholder": "​",
            "_view_module": "@jupyter-widgets/controls",
            "_model_module_version": "1.5.0",
            "value": " 9913344/? [12:41&lt;00:00, 13024.16it/s]",
            "_view_count": null,
            "_view_module_version": "1.5.0",
            "description_tooltip": null,
            "_model_module": "@jupyter-widgets/controls",
            "layout": "IPY_MODEL_9351c76fa4b7494aac5cc1a137b0f177"
          }
        },
        "79b97e8170eb412aa2012cdb6472d00a": {
          "model_module": "@jupyter-widgets/controls",
          "model_name": "ProgressStyleModel",
          "state": {
            "_view_name": "StyleView",
            "_model_name": "ProgressStyleModel",
            "description_width": "initial",
            "_view_module": "@jupyter-widgets/base",
            "_model_module_version": "1.5.0",
            "_view_count": null,
            "_view_module_version": "1.2.0",
            "bar_color": null,
            "_model_module": "@jupyter-widgets/controls"
          }
        },
        "b0337e68edb046e3b98f277e3df0cd6a": {
          "model_module": "@jupyter-widgets/base",
          "model_name": "LayoutModel",
          "state": {
            "_view_name": "LayoutView",
            "grid_template_rows": null,
            "right": null,
            "justify_content": null,
            "_view_module": "@jupyter-widgets/base",
            "overflow": null,
            "_model_module_version": "1.2.0",
            "_view_count": null,
            "flex_flow": null,
            "width": null,
            "min_width": null,
            "border": null,
            "align_items": null,
            "bottom": null,
            "_model_module": "@jupyter-widgets/base",
            "top": null,
            "grid_column": null,
            "overflow_y": null,
            "overflow_x": null,
            "grid_auto_flow": null,
            "grid_area": null,
            "grid_template_columns": null,
            "flex": null,
            "_model_name": "LayoutModel",
            "justify_items": null,
            "grid_row": null,
            "max_height": null,
            "align_content": null,
            "visibility": null,
            "align_self": null,
            "height": null,
            "min_height": null,
            "padding": null,
            "grid_auto_rows": null,
            "grid_gap": null,
            "max_width": null,
            "order": null,
            "_view_module_version": "1.2.0",
            "grid_template_areas": null,
            "object_position": null,
            "object_fit": null,
            "grid_auto_columns": null,
            "margin": null,
            "display": null,
            "left": null
          }
        },
        "c1b511554e66421a9ce00d7de437d06f": {
          "model_module": "@jupyter-widgets/controls",
          "model_name": "DescriptionStyleModel",
          "state": {
            "_view_name": "StyleView",
            "_model_name": "DescriptionStyleModel",
            "description_width": "",
            "_view_module": "@jupyter-widgets/base",
            "_model_module_version": "1.5.0",
            "_view_count": null,
            "_view_module_version": "1.2.0",
            "_model_module": "@jupyter-widgets/controls"
          }
        },
        "9351c76fa4b7494aac5cc1a137b0f177": {
          "model_module": "@jupyter-widgets/base",
          "model_name": "LayoutModel",
          "state": {
            "_view_name": "LayoutView",
            "grid_template_rows": null,
            "right": null,
            "justify_content": null,
            "_view_module": "@jupyter-widgets/base",
            "overflow": null,
            "_model_module_version": "1.2.0",
            "_view_count": null,
            "flex_flow": null,
            "width": null,
            "min_width": null,
            "border": null,
            "align_items": null,
            "bottom": null,
            "_model_module": "@jupyter-widgets/base",
            "top": null,
            "grid_column": null,
            "overflow_y": null,
            "overflow_x": null,
            "grid_auto_flow": null,
            "grid_area": null,
            "grid_template_columns": null,
            "flex": null,
            "_model_name": "LayoutModel",
            "justify_items": null,
            "grid_row": null,
            "max_height": null,
            "align_content": null,
            "visibility": null,
            "align_self": null,
            "height": null,
            "min_height": null,
            "padding": null,
            "grid_auto_rows": null,
            "grid_gap": null,
            "max_width": null,
            "order": null,
            "_view_module_version": "1.2.0",
            "grid_template_areas": null,
            "object_position": null,
            "object_fit": null,
            "grid_auto_columns": null,
            "margin": null,
            "display": null,
            "left": null
          }
        },
        "fd796e7757864908bb0af42d8832f4e6": {
          "model_module": "@jupyter-widgets/controls",
          "model_name": "HBoxModel",
          "state": {
            "_view_name": "HBoxView",
            "_dom_classes": [],
            "_model_name": "HBoxModel",
            "_view_module": "@jupyter-widgets/controls",
            "_model_module_version": "1.5.0",
            "_view_count": null,
            "_view_module_version": "1.5.0",
            "box_style": "",
            "layout": "IPY_MODEL_a31bf16f3ba145dd8859f74f967a0577",
            "_model_module": "@jupyter-widgets/controls",
            "children": [
              "IPY_MODEL_b57a07919f2a4efb841e20bab2e32b2c",
              "IPY_MODEL_17e6f74d5f044e8a80a59bce479b4c9f"
            ]
          }
        },
        "a31bf16f3ba145dd8859f74f967a0577": {
          "model_module": "@jupyter-widgets/base",
          "model_name": "LayoutModel",
          "state": {
            "_view_name": "LayoutView",
            "grid_template_rows": null,
            "right": null,
            "justify_content": null,
            "_view_module": "@jupyter-widgets/base",
            "overflow": null,
            "_model_module_version": "1.2.0",
            "_view_count": null,
            "flex_flow": null,
            "width": null,
            "min_width": null,
            "border": null,
            "align_items": null,
            "bottom": null,
            "_model_module": "@jupyter-widgets/base",
            "top": null,
            "grid_column": null,
            "overflow_y": null,
            "overflow_x": null,
            "grid_auto_flow": null,
            "grid_area": null,
            "grid_template_columns": null,
            "flex": null,
            "_model_name": "LayoutModel",
            "justify_items": null,
            "grid_row": null,
            "max_height": null,
            "align_content": null,
            "visibility": null,
            "align_self": null,
            "height": null,
            "min_height": null,
            "padding": null,
            "grid_auto_rows": null,
            "grid_gap": null,
            "max_width": null,
            "order": null,
            "_view_module_version": "1.2.0",
            "grid_template_areas": null,
            "object_position": null,
            "object_fit": null,
            "grid_auto_columns": null,
            "margin": null,
            "display": null,
            "left": null
          }
        },
        "b57a07919f2a4efb841e20bab2e32b2c": {
          "model_module": "@jupyter-widgets/controls",
          "model_name": "FloatProgressModel",
          "state": {
            "_view_name": "ProgressView",
            "style": "IPY_MODEL_c02e0367445f48ac879e0a08dd16fa3b",
            "_dom_classes": [],
            "description": "",
            "_model_name": "FloatProgressModel",
            "bar_style": "success",
            "max": 28881,
            "_view_module": "@jupyter-widgets/controls",
            "_model_module_version": "1.5.0",
            "value": 28881,
            "_view_count": null,
            "_view_module_version": "1.5.0",
            "orientation": "horizontal",
            "min": 0,
            "description_tooltip": null,
            "_model_module": "@jupyter-widgets/controls",
            "layout": "IPY_MODEL_6f16707ddefc43d5bb4272bc55ad8af4"
          }
        },
        "17e6f74d5f044e8a80a59bce479b4c9f": {
          "model_module": "@jupyter-widgets/controls",
          "model_name": "HTMLModel",
          "state": {
            "_view_name": "HTMLView",
            "style": "IPY_MODEL_4c19ab5f87cf4e64a5180622ea47c4c0",
            "_dom_classes": [],
            "description": "",
            "_model_name": "HTMLModel",
            "placeholder": "​",
            "_view_module": "@jupyter-widgets/controls",
            "_model_module_version": "1.5.0",
            "value": " 29696/? [00:02&lt;00:00, 11302.91it/s]",
            "_view_count": null,
            "_view_module_version": "1.5.0",
            "description_tooltip": null,
            "_model_module": "@jupyter-widgets/controls",
            "layout": "IPY_MODEL_0b5e42c8fee14299ac39c33e8e27b7e3"
          }
        },
        "c02e0367445f48ac879e0a08dd16fa3b": {
          "model_module": "@jupyter-widgets/controls",
          "model_name": "ProgressStyleModel",
          "state": {
            "_view_name": "StyleView",
            "_model_name": "ProgressStyleModel",
            "description_width": "initial",
            "_view_module": "@jupyter-widgets/base",
            "_model_module_version": "1.5.0",
            "_view_count": null,
            "_view_module_version": "1.2.0",
            "bar_color": null,
            "_model_module": "@jupyter-widgets/controls"
          }
        },
        "6f16707ddefc43d5bb4272bc55ad8af4": {
          "model_module": "@jupyter-widgets/base",
          "model_name": "LayoutModel",
          "state": {
            "_view_name": "LayoutView",
            "grid_template_rows": null,
            "right": null,
            "justify_content": null,
            "_view_module": "@jupyter-widgets/base",
            "overflow": null,
            "_model_module_version": "1.2.0",
            "_view_count": null,
            "flex_flow": null,
            "width": null,
            "min_width": null,
            "border": null,
            "align_items": null,
            "bottom": null,
            "_model_module": "@jupyter-widgets/base",
            "top": null,
            "grid_column": null,
            "overflow_y": null,
            "overflow_x": null,
            "grid_auto_flow": null,
            "grid_area": null,
            "grid_template_columns": null,
            "flex": null,
            "_model_name": "LayoutModel",
            "justify_items": null,
            "grid_row": null,
            "max_height": null,
            "align_content": null,
            "visibility": null,
            "align_self": null,
            "height": null,
            "min_height": null,
            "padding": null,
            "grid_auto_rows": null,
            "grid_gap": null,
            "max_width": null,
            "order": null,
            "_view_module_version": "1.2.0",
            "grid_template_areas": null,
            "object_position": null,
            "object_fit": null,
            "grid_auto_columns": null,
            "margin": null,
            "display": null,
            "left": null
          }
        },
        "4c19ab5f87cf4e64a5180622ea47c4c0": {
          "model_module": "@jupyter-widgets/controls",
          "model_name": "DescriptionStyleModel",
          "state": {
            "_view_name": "StyleView",
            "_model_name": "DescriptionStyleModel",
            "description_width": "",
            "_view_module": "@jupyter-widgets/base",
            "_model_module_version": "1.5.0",
            "_view_count": null,
            "_view_module_version": "1.2.0",
            "_model_module": "@jupyter-widgets/controls"
          }
        },
        "0b5e42c8fee14299ac39c33e8e27b7e3": {
          "model_module": "@jupyter-widgets/base",
          "model_name": "LayoutModel",
          "state": {
            "_view_name": "LayoutView",
            "grid_template_rows": null,
            "right": null,
            "justify_content": null,
            "_view_module": "@jupyter-widgets/base",
            "overflow": null,
            "_model_module_version": "1.2.0",
            "_view_count": null,
            "flex_flow": null,
            "width": null,
            "min_width": null,
            "border": null,
            "align_items": null,
            "bottom": null,
            "_model_module": "@jupyter-widgets/base",
            "top": null,
            "grid_column": null,
            "overflow_y": null,
            "overflow_x": null,
            "grid_auto_flow": null,
            "grid_area": null,
            "grid_template_columns": null,
            "flex": null,
            "_model_name": "LayoutModel",
            "justify_items": null,
            "grid_row": null,
            "max_height": null,
            "align_content": null,
            "visibility": null,
            "align_self": null,
            "height": null,
            "min_height": null,
            "padding": null,
            "grid_auto_rows": null,
            "grid_gap": null,
            "max_width": null,
            "order": null,
            "_view_module_version": "1.2.0",
            "grid_template_areas": null,
            "object_position": null,
            "object_fit": null,
            "grid_auto_columns": null,
            "margin": null,
            "display": null,
            "left": null
          }
        },
        "8355a70ab4d44165ab47c103fe74121c": {
          "model_module": "@jupyter-widgets/controls",
          "model_name": "HBoxModel",
          "state": {
            "_view_name": "HBoxView",
            "_dom_classes": [],
            "_model_name": "HBoxModel",
            "_view_module": "@jupyter-widgets/controls",
            "_model_module_version": "1.5.0",
            "_view_count": null,
            "_view_module_version": "1.5.0",
            "box_style": "",
            "layout": "IPY_MODEL_af2e2132870f4888a3d7eb8cd67e63f5",
            "_model_module": "@jupyter-widgets/controls",
            "children": [
              "IPY_MODEL_eba7c02c0c264289bb87ed3967885ceb",
              "IPY_MODEL_202bd43247a84b5dbbe8f058310013a3"
            ]
          }
        },
        "af2e2132870f4888a3d7eb8cd67e63f5": {
          "model_module": "@jupyter-widgets/base",
          "model_name": "LayoutModel",
          "state": {
            "_view_name": "LayoutView",
            "grid_template_rows": null,
            "right": null,
            "justify_content": null,
            "_view_module": "@jupyter-widgets/base",
            "overflow": null,
            "_model_module_version": "1.2.0",
            "_view_count": null,
            "flex_flow": null,
            "width": null,
            "min_width": null,
            "border": null,
            "align_items": null,
            "bottom": null,
            "_model_module": "@jupyter-widgets/base",
            "top": null,
            "grid_column": null,
            "overflow_y": null,
            "overflow_x": null,
            "grid_auto_flow": null,
            "grid_area": null,
            "grid_template_columns": null,
            "flex": null,
            "_model_name": "LayoutModel",
            "justify_items": null,
            "grid_row": null,
            "max_height": null,
            "align_content": null,
            "visibility": null,
            "align_self": null,
            "height": null,
            "min_height": null,
            "padding": null,
            "grid_auto_rows": null,
            "grid_gap": null,
            "max_width": null,
            "order": null,
            "_view_module_version": "1.2.0",
            "grid_template_areas": null,
            "object_position": null,
            "object_fit": null,
            "grid_auto_columns": null,
            "margin": null,
            "display": null,
            "left": null
          }
        },
        "eba7c02c0c264289bb87ed3967885ceb": {
          "model_module": "@jupyter-widgets/controls",
          "model_name": "FloatProgressModel",
          "state": {
            "_view_name": "ProgressView",
            "style": "IPY_MODEL_5d2c5f92eb6a4c4cba7d503b285523f8",
            "_dom_classes": [],
            "description": "",
            "_model_name": "FloatProgressModel",
            "bar_style": "success",
            "max": 1648877,
            "_view_module": "@jupyter-widgets/controls",
            "_model_module_version": "1.5.0",
            "value": 1648877,
            "_view_count": null,
            "_view_module_version": "1.5.0",
            "orientation": "horizontal",
            "min": 0,
            "description_tooltip": null,
            "_model_module": "@jupyter-widgets/controls",
            "layout": "IPY_MODEL_2a565c5939fc4ea89ea85e76bd02c973"
          }
        },
        "202bd43247a84b5dbbe8f058310013a3": {
          "model_module": "@jupyter-widgets/controls",
          "model_name": "HTMLModel",
          "state": {
            "_view_name": "HTMLView",
            "style": "IPY_MODEL_89be3d8be0954dff825f53706f177fd9",
            "_dom_classes": [],
            "description": "",
            "_model_name": "HTMLModel",
            "placeholder": "​",
            "_view_module": "@jupyter-widgets/controls",
            "_model_module_version": "1.5.0",
            "value": " 1649664/? [08:31&lt;00:00, 3226.42it/s]",
            "_view_count": null,
            "_view_module_version": "1.5.0",
            "description_tooltip": null,
            "_model_module": "@jupyter-widgets/controls",
            "layout": "IPY_MODEL_a1fc86048890456e9b66afddaa440da3"
          }
        },
        "5d2c5f92eb6a4c4cba7d503b285523f8": {
          "model_module": "@jupyter-widgets/controls",
          "model_name": "ProgressStyleModel",
          "state": {
            "_view_name": "StyleView",
            "_model_name": "ProgressStyleModel",
            "description_width": "initial",
            "_view_module": "@jupyter-widgets/base",
            "_model_module_version": "1.5.0",
            "_view_count": null,
            "_view_module_version": "1.2.0",
            "bar_color": null,
            "_model_module": "@jupyter-widgets/controls"
          }
        },
        "2a565c5939fc4ea89ea85e76bd02c973": {
          "model_module": "@jupyter-widgets/base",
          "model_name": "LayoutModel",
          "state": {
            "_view_name": "LayoutView",
            "grid_template_rows": null,
            "right": null,
            "justify_content": null,
            "_view_module": "@jupyter-widgets/base",
            "overflow": null,
            "_model_module_version": "1.2.0",
            "_view_count": null,
            "flex_flow": null,
            "width": null,
            "min_width": null,
            "border": null,
            "align_items": null,
            "bottom": null,
            "_model_module": "@jupyter-widgets/base",
            "top": null,
            "grid_column": null,
            "overflow_y": null,
            "overflow_x": null,
            "grid_auto_flow": null,
            "grid_area": null,
            "grid_template_columns": null,
            "flex": null,
            "_model_name": "LayoutModel",
            "justify_items": null,
            "grid_row": null,
            "max_height": null,
            "align_content": null,
            "visibility": null,
            "align_self": null,
            "height": null,
            "min_height": null,
            "padding": null,
            "grid_auto_rows": null,
            "grid_gap": null,
            "max_width": null,
            "order": null,
            "_view_module_version": "1.2.0",
            "grid_template_areas": null,
            "object_position": null,
            "object_fit": null,
            "grid_auto_columns": null,
            "margin": null,
            "display": null,
            "left": null
          }
        },
        "89be3d8be0954dff825f53706f177fd9": {
          "model_module": "@jupyter-widgets/controls",
          "model_name": "DescriptionStyleModel",
          "state": {
            "_view_name": "StyleView",
            "_model_name": "DescriptionStyleModel",
            "description_width": "",
            "_view_module": "@jupyter-widgets/base",
            "_model_module_version": "1.5.0",
            "_view_count": null,
            "_view_module_version": "1.2.0",
            "_model_module": "@jupyter-widgets/controls"
          }
        },
        "a1fc86048890456e9b66afddaa440da3": {
          "model_module": "@jupyter-widgets/base",
          "model_name": "LayoutModel",
          "state": {
            "_view_name": "LayoutView",
            "grid_template_rows": null,
            "right": null,
            "justify_content": null,
            "_view_module": "@jupyter-widgets/base",
            "overflow": null,
            "_model_module_version": "1.2.0",
            "_view_count": null,
            "flex_flow": null,
            "width": null,
            "min_width": null,
            "border": null,
            "align_items": null,
            "bottom": null,
            "_model_module": "@jupyter-widgets/base",
            "top": null,
            "grid_column": null,
            "overflow_y": null,
            "overflow_x": null,
            "grid_auto_flow": null,
            "grid_area": null,
            "grid_template_columns": null,
            "flex": null,
            "_model_name": "LayoutModel",
            "justify_items": null,
            "grid_row": null,
            "max_height": null,
            "align_content": null,
            "visibility": null,
            "align_self": null,
            "height": null,
            "min_height": null,
            "padding": null,
            "grid_auto_rows": null,
            "grid_gap": null,
            "max_width": null,
            "order": null,
            "_view_module_version": "1.2.0",
            "grid_template_areas": null,
            "object_position": null,
            "object_fit": null,
            "grid_auto_columns": null,
            "margin": null,
            "display": null,
            "left": null
          }
        },
        "a684acd7d7034ac1abd694a15d3276cd": {
          "model_module": "@jupyter-widgets/controls",
          "model_name": "HBoxModel",
          "state": {
            "_view_name": "HBoxView",
            "_dom_classes": [],
            "_model_name": "HBoxModel",
            "_view_module": "@jupyter-widgets/controls",
            "_model_module_version": "1.5.0",
            "_view_count": null,
            "_view_module_version": "1.5.0",
            "box_style": "",
            "layout": "IPY_MODEL_1ba78d4d37584ba590bbe24c0f05e6da",
            "_model_module": "@jupyter-widgets/controls",
            "children": [
              "IPY_MODEL_7b9941ea348e40bfa967ad7fe1d3ba52",
              "IPY_MODEL_0b4d5f23ca9b471f96d8ea63345ea7ad"
            ]
          }
        },
        "1ba78d4d37584ba590bbe24c0f05e6da": {
          "model_module": "@jupyter-widgets/base",
          "model_name": "LayoutModel",
          "state": {
            "_view_name": "LayoutView",
            "grid_template_rows": null,
            "right": null,
            "justify_content": null,
            "_view_module": "@jupyter-widgets/base",
            "overflow": null,
            "_model_module_version": "1.2.0",
            "_view_count": null,
            "flex_flow": null,
            "width": null,
            "min_width": null,
            "border": null,
            "align_items": null,
            "bottom": null,
            "_model_module": "@jupyter-widgets/base",
            "top": null,
            "grid_column": null,
            "overflow_y": null,
            "overflow_x": null,
            "grid_auto_flow": null,
            "grid_area": null,
            "grid_template_columns": null,
            "flex": null,
            "_model_name": "LayoutModel",
            "justify_items": null,
            "grid_row": null,
            "max_height": null,
            "align_content": null,
            "visibility": null,
            "align_self": null,
            "height": null,
            "min_height": null,
            "padding": null,
            "grid_auto_rows": null,
            "grid_gap": null,
            "max_width": null,
            "order": null,
            "_view_module_version": "1.2.0",
            "grid_template_areas": null,
            "object_position": null,
            "object_fit": null,
            "grid_auto_columns": null,
            "margin": null,
            "display": null,
            "left": null
          }
        },
        "7b9941ea348e40bfa967ad7fe1d3ba52": {
          "model_module": "@jupyter-widgets/controls",
          "model_name": "FloatProgressModel",
          "state": {
            "_view_name": "ProgressView",
            "style": "IPY_MODEL_09005d29d32144828736f839b612db89",
            "_dom_classes": [],
            "description": "",
            "_model_name": "FloatProgressModel",
            "bar_style": "success",
            "max": 4542,
            "_view_module": "@jupyter-widgets/controls",
            "_model_module_version": "1.5.0",
            "value": 4542,
            "_view_count": null,
            "_view_module_version": "1.5.0",
            "orientation": "horizontal",
            "min": 0,
            "description_tooltip": null,
            "_model_module": "@jupyter-widgets/controls",
            "layout": "IPY_MODEL_91e9afbe87d141209e15e2ca1dc6886e"
          }
        },
        "0b4d5f23ca9b471f96d8ea63345ea7ad": {
          "model_module": "@jupyter-widgets/controls",
          "model_name": "HTMLModel",
          "state": {
            "_view_name": "HTMLView",
            "style": "IPY_MODEL_7bcc00d7044b434099f23fa08f947773",
            "_dom_classes": [],
            "description": "",
            "_model_name": "HTMLModel",
            "placeholder": "​",
            "_view_module": "@jupyter-widgets/controls",
            "_model_module_version": "1.5.0",
            "value": " 5120/? [00:21&lt;00:00, 241.72it/s]",
            "_view_count": null,
            "_view_module_version": "1.5.0",
            "description_tooltip": null,
            "_model_module": "@jupyter-widgets/controls",
            "layout": "IPY_MODEL_e36a6aa5fbfe42f2b3992f4c62f05e3e"
          }
        },
        "09005d29d32144828736f839b612db89": {
          "model_module": "@jupyter-widgets/controls",
          "model_name": "ProgressStyleModel",
          "state": {
            "_view_name": "StyleView",
            "_model_name": "ProgressStyleModel",
            "description_width": "initial",
            "_view_module": "@jupyter-widgets/base",
            "_model_module_version": "1.5.0",
            "_view_count": null,
            "_view_module_version": "1.2.0",
            "bar_color": null,
            "_model_module": "@jupyter-widgets/controls"
          }
        },
        "91e9afbe87d141209e15e2ca1dc6886e": {
          "model_module": "@jupyter-widgets/base",
          "model_name": "LayoutModel",
          "state": {
            "_view_name": "LayoutView",
            "grid_template_rows": null,
            "right": null,
            "justify_content": null,
            "_view_module": "@jupyter-widgets/base",
            "overflow": null,
            "_model_module_version": "1.2.0",
            "_view_count": null,
            "flex_flow": null,
            "width": null,
            "min_width": null,
            "border": null,
            "align_items": null,
            "bottom": null,
            "_model_module": "@jupyter-widgets/base",
            "top": null,
            "grid_column": null,
            "overflow_y": null,
            "overflow_x": null,
            "grid_auto_flow": null,
            "grid_area": null,
            "grid_template_columns": null,
            "flex": null,
            "_model_name": "LayoutModel",
            "justify_items": null,
            "grid_row": null,
            "max_height": null,
            "align_content": null,
            "visibility": null,
            "align_self": null,
            "height": null,
            "min_height": null,
            "padding": null,
            "grid_auto_rows": null,
            "grid_gap": null,
            "max_width": null,
            "order": null,
            "_view_module_version": "1.2.0",
            "grid_template_areas": null,
            "object_position": null,
            "object_fit": null,
            "grid_auto_columns": null,
            "margin": null,
            "display": null,
            "left": null
          }
        },
        "7bcc00d7044b434099f23fa08f947773": {
          "model_module": "@jupyter-widgets/controls",
          "model_name": "DescriptionStyleModel",
          "state": {
            "_view_name": "StyleView",
            "_model_name": "DescriptionStyleModel",
            "description_width": "",
            "_view_module": "@jupyter-widgets/base",
            "_model_module_version": "1.5.0",
            "_view_count": null,
            "_view_module_version": "1.2.0",
            "_model_module": "@jupyter-widgets/controls"
          }
        },
        "e36a6aa5fbfe42f2b3992f4c62f05e3e": {
          "model_module": "@jupyter-widgets/base",
          "model_name": "LayoutModel",
          "state": {
            "_view_name": "LayoutView",
            "grid_template_rows": null,
            "right": null,
            "justify_content": null,
            "_view_module": "@jupyter-widgets/base",
            "overflow": null,
            "_model_module_version": "1.2.0",
            "_view_count": null,
            "flex_flow": null,
            "width": null,
            "min_width": null,
            "border": null,
            "align_items": null,
            "bottom": null,
            "_model_module": "@jupyter-widgets/base",
            "top": null,
            "grid_column": null,
            "overflow_y": null,
            "overflow_x": null,
            "grid_auto_flow": null,
            "grid_area": null,
            "grid_template_columns": null,
            "flex": null,
            "_model_name": "LayoutModel",
            "justify_items": null,
            "grid_row": null,
            "max_height": null,
            "align_content": null,
            "visibility": null,
            "align_self": null,
            "height": null,
            "min_height": null,
            "padding": null,
            "grid_auto_rows": null,
            "grid_gap": null,
            "max_width": null,
            "order": null,
            "_view_module_version": "1.2.0",
            "grid_template_areas": null,
            "object_position": null,
            "object_fit": null,
            "grid_auto_columns": null,
            "margin": null,
            "display": null,
            "left": null
          }
        }
      }
    }
  },
  "cells": [
    {
      "cell_type": "markdown",
      "metadata": {
        "id": "view-in-github",
        "colab_type": "text"
      },
      "source": [
        "<a href=\"https://colab.research.google.com/github/subiksha-sivakumar/Sparks/blob/main/CV_task_1.ipynb\" target=\"_parent\"><img src=\"https://colab.research.google.com/assets/colab-badge.svg\" alt=\"Open In Colab\"/></a>"
      ]
    },
    {
      "cell_type": "markdown",
      "metadata": {
        "id": "XBuFa0ArvJId"
      },
      "source": [
        "# **SUBIKSHA SHREE S**\n",
        "COMPUTER VISION AND INTERNET OF THINGS TASK 1\n"
      ]
    },
    {
      "cell_type": "code",
      "metadata": {
        "id": "_UleJKnEvFwt"
      },
      "source": [
        "import torch\n",
        "import torch.nn as nn\n",
        "import torch.nn.functional as F\n",
        "from torch.utils.data import DataLoader\n",
        "from torchvision import datasets, transforms\n",
        "from torchvision.utils import make_grid\n",
        "\n",
        "import numpy as np\n",
        "import pandas as pd\n",
        "from sklearn.metrics import confusion_matrix\n",
        "import matplotlib.pyplot as plt\n",
        "%matplotlib inline"
      ],
      "execution_count": null,
      "outputs": []
    },
    {
      "cell_type": "markdown",
      "metadata": {
        "id": "w5iTS1zY0Ivp"
      },
      "source": [
        "### `Working on MNIST data set available on PyTorch`"
      ]
    },
    {
      "cell_type": "code",
      "metadata": {
        "colab": {
          "base_uri": "https://localhost:8080/",
          "height": 701,
          "referenced_widgets": [
            "a34ce1bece7c41f286fd471f9ad8aeef",
            "096d72154a3348789aaabb702c185a9f",
            "4dfe2ab5edce4bde8d316ad2174c0303",
            "48ec5a16d51d4cf6ad0d9e6922497842",
            "79b97e8170eb412aa2012cdb6472d00a",
            "b0337e68edb046e3b98f277e3df0cd6a",
            "c1b511554e66421a9ce00d7de437d06f",
            "9351c76fa4b7494aac5cc1a137b0f177",
            "fd796e7757864908bb0af42d8832f4e6",
            "a31bf16f3ba145dd8859f74f967a0577",
            "b57a07919f2a4efb841e20bab2e32b2c",
            "17e6f74d5f044e8a80a59bce479b4c9f",
            "c02e0367445f48ac879e0a08dd16fa3b",
            "6f16707ddefc43d5bb4272bc55ad8af4",
            "4c19ab5f87cf4e64a5180622ea47c4c0",
            "0b5e42c8fee14299ac39c33e8e27b7e3",
            "8355a70ab4d44165ab47c103fe74121c",
            "af2e2132870f4888a3d7eb8cd67e63f5",
            "eba7c02c0c264289bb87ed3967885ceb",
            "202bd43247a84b5dbbe8f058310013a3",
            "5d2c5f92eb6a4c4cba7d503b285523f8",
            "2a565c5939fc4ea89ea85e76bd02c973",
            "89be3d8be0954dff825f53706f177fd9",
            "a1fc86048890456e9b66afddaa440da3",
            "a684acd7d7034ac1abd694a15d3276cd",
            "1ba78d4d37584ba590bbe24c0f05e6da",
            "7b9941ea348e40bfa967ad7fe1d3ba52",
            "0b4d5f23ca9b471f96d8ea63345ea7ad",
            "09005d29d32144828736f839b612db89",
            "91e9afbe87d141209e15e2ca1dc6886e",
            "7bcc00d7044b434099f23fa08f947773",
            "e36a6aa5fbfe42f2b3992f4c62f05e3e"
          ]
        },
        "id": "MjhDk8kF05_Y",
        "outputId": "2167fe79-2cc7-4548-83ab-dfe17a628578"
      },
      "source": [
        "transform = transforms.ToTensor()\n",
        "\n",
        "train_data = datasets.MNIST(root='../Data', train=True, download=True, transform=transform)\n",
        "test_data = datasets.MNIST(root='../Data', train=False, download=True, transform=transform)\n",
        "train_data"
      ],
      "execution_count": null,
      "outputs": [
        {
          "output_type": "stream",
          "text": [
            "Downloading http://yann.lecun.com/exdb/mnist/train-images-idx3-ubyte.gz\n",
            "Downloading http://yann.lecun.com/exdb/mnist/train-images-idx3-ubyte.gz to ../Data/MNIST/raw/train-images-idx3-ubyte.gz\n"
          ],
          "name": "stdout"
        },
        {
          "output_type": "display_data",
          "data": {
            "application/vnd.jupyter.widget-view+json": {
              "model_id": "a34ce1bece7c41f286fd471f9ad8aeef",
              "version_minor": 0,
              "version_major": 2
            },
            "text/plain": [
              "HBox(children=(FloatProgress(value=0.0, max=9912422.0), HTML(value='')))"
            ]
          },
          "metadata": {
            "tags": []
          }
        },
        {
          "output_type": "stream",
          "text": [
            "\n",
            "Extracting ../Data/MNIST/raw/train-images-idx3-ubyte.gz to ../Data/MNIST/raw\n",
            "\n",
            "Downloading http://yann.lecun.com/exdb/mnist/train-labels-idx1-ubyte.gz\n",
            "Downloading http://yann.lecun.com/exdb/mnist/train-labels-idx1-ubyte.gz to ../Data/MNIST/raw/train-labels-idx1-ubyte.gz\n"
          ],
          "name": "stdout"
        },
        {
          "output_type": "display_data",
          "data": {
            "application/vnd.jupyter.widget-view+json": {
              "model_id": "fd796e7757864908bb0af42d8832f4e6",
              "version_minor": 0,
              "version_major": 2
            },
            "text/plain": [
              "HBox(children=(FloatProgress(value=0.0, max=28881.0), HTML(value='')))"
            ]
          },
          "metadata": {
            "tags": []
          }
        },
        {
          "output_type": "stream",
          "text": [
            "\n",
            "Extracting ../Data/MNIST/raw/train-labels-idx1-ubyte.gz to ../Data/MNIST/raw\n",
            "\n",
            "Downloading http://yann.lecun.com/exdb/mnist/t10k-images-idx3-ubyte.gz\n",
            "Downloading http://yann.lecun.com/exdb/mnist/t10k-images-idx3-ubyte.gz to ../Data/MNIST/raw/t10k-images-idx3-ubyte.gz\n",
            "Failed to download (trying next):\n",
            "HTTP Error 503: Service Unavailable\n",
            "\n",
            "Downloading https://ossci-datasets.s3.amazonaws.com/mnist/t10k-images-idx3-ubyte.gz\n",
            "Downloading https://ossci-datasets.s3.amazonaws.com/mnist/t10k-images-idx3-ubyte.gz to ../Data/MNIST/raw/t10k-images-idx3-ubyte.gz\n"
          ],
          "name": "stdout"
        },
        {
          "output_type": "display_data",
          "data": {
            "application/vnd.jupyter.widget-view+json": {
              "model_id": "8355a70ab4d44165ab47c103fe74121c",
              "version_minor": 0,
              "version_major": 2
            },
            "text/plain": [
              "HBox(children=(FloatProgress(value=0.0, max=1648877.0), HTML(value='')))"
            ]
          },
          "metadata": {
            "tags": []
          }
        },
        {
          "output_type": "stream",
          "text": [
            "\n",
            "Extracting ../Data/MNIST/raw/t10k-images-idx3-ubyte.gz to ../Data/MNIST/raw\n",
            "\n",
            "Downloading http://yann.lecun.com/exdb/mnist/t10k-labels-idx1-ubyte.gz\n",
            "Downloading http://yann.lecun.com/exdb/mnist/t10k-labels-idx1-ubyte.gz to ../Data/MNIST/raw/t10k-labels-idx1-ubyte.gz\n"
          ],
          "name": "stdout"
        },
        {
          "output_type": "display_data",
          "data": {
            "application/vnd.jupyter.widget-view+json": {
              "model_id": "a684acd7d7034ac1abd694a15d3276cd",
              "version_minor": 0,
              "version_major": 2
            },
            "text/plain": [
              "HBox(children=(FloatProgress(value=0.0, max=4542.0), HTML(value='')))"
            ]
          },
          "metadata": {
            "tags": []
          }
        },
        {
          "output_type": "stream",
          "text": [
            "\n",
            "Extracting ../Data/MNIST/raw/t10k-labels-idx1-ubyte.gz to ../Data/MNIST/raw\n",
            "\n"
          ],
          "name": "stdout"
        },
        {
          "output_type": "stream",
          "text": [
            "/usr/local/lib/python3.7/dist-packages/torchvision/datasets/mnist.py:498: UserWarning: The given NumPy array is not writeable, and PyTorch does not support non-writeable tensors. This means you can write to the underlying (supposedly non-writeable) NumPy array using the tensor. You may want to copy the array to protect its data or make it writeable before converting it to a tensor. This type of warning will be suppressed for the rest of this program. (Triggered internally at  /pytorch/torch/csrc/utils/tensor_numpy.cpp:180.)\n",
            "  return torch.from_numpy(parsed.astype(m[2], copy=False)).view(*s)\n"
          ],
          "name": "stderr"
        },
        {
          "output_type": "execute_result",
          "data": {
            "text/plain": [
              "Dataset MNIST\n",
              "    Number of datapoints: 60000\n",
              "    Root location: ../Data\n",
              "    Split: Train\n",
              "    StandardTransform\n",
              "Transform: ToTensor()"
            ]
          },
          "metadata": {
            "tags": []
          },
          "execution_count": 3
        }
      ]
    },
    {
      "cell_type": "code",
      "metadata": {
        "colab": {
          "base_uri": "https://localhost:8080/"
        },
        "id": "Ju9tHl3r1tJc",
        "outputId": "30a46662-80e4-4765-c7c7-05adbfc093ee"
      },
      "source": [
        "train_loader = DataLoader(train_data, batch_size=10, shuffle=True)#Shuffled to avoid training the model in sequence\n",
        "test_loader = DataLoader(test_data, batch_size=10, shuffle=False)\n",
        "# Define layers\n",
        "conv1 = nn.Conv2d(1, 6, 3, 1)\n",
        "conv2 = nn.Conv2d(6, 16, 3, 1)\n",
        "# Grab the first MNIST record\n",
        "for i, (X_train, y_train) in enumerate(train_data):\n",
        "    break\n",
        "# Create a rank-4 tensor to be passed into the model\n",
        "# (train_loader will have done this already)\n",
        "x = X_train.view(1,1,28,28)\n",
        "print(x.shape)    "
      ],
      "execution_count": null,
      "outputs": [
        {
          "output_type": "stream",
          "text": [
            "torch.Size([1, 1, 28, 28])\n"
          ],
          "name": "stdout"
        }
      ]
    },
    {
      "cell_type": "code",
      "metadata": {
        "colab": {
          "base_uri": "https://localhost:8080/",
          "height": 265
        },
        "id": "sfm9mPae5fTR",
        "outputId": "18fd6af1-7272-451d-df43-2bb296cfcde5"
      },
      "source": [
        "plt.imshow(train_data[0][0].reshape((28,28)), cmap=\"gray\");"
      ],
      "execution_count": null,
      "outputs": [
        {
          "output_type": "display_data",
          "data": {
            "image/png": "[encoded data removed]",
            "text/plain": [
              "<Figure size 432x288 with 1 Axes>"
            ]
          },
          "metadata": {
            "tags": [],
            "needs_background": "light"
          }
        }
      ]
    },
    {
      "cell_type": "code",
      "metadata": {
        "id": "zExgpFhz5lgO",
        "colab": {
          "base_uri": "https://localhost:8080/",
          "height": 126
        },
        "outputId": "e8d732ae-896a-401d-d0e1-d7333c48f620"
      },
      "source": [
        "from torchvision.utils import make_grid\n",
        "np.set_printoptions(formatter=dict(int=lambda x: f'{x:4}')) # to widen the printed array\n",
        "\n",
        "# Grab the first batch of images\n",
        "for images,labels in train_loader: \n",
        "    break\n",
        "\n",
        "# Print the first 12 labels\n",
        "print('Labels: ', labels[:12].numpy())\n",
        "\n",
        "# Print the first 12 images\n",
        "im = make_grid(images[:12], nrow=12)  # the default nrow is 8\n",
        "plt.figure(figsize=(10,4))\n",
        "# We need to transpose the images from CWH to WHC\n",
        "plt.imshow(np.transpose(im.numpy(), (1, 2, 0)));"
      ],
      "execution_count": null,
      "outputs": [
        {
          "output_type": "stream",
          "text": [
            "Labels:  [   2    0    0    2    3    7    2    4    1    6]\n"
          ],
          "name": "stdout"
        },
        {
          "output_type": "display_data",
          "data": {
            "image/png": "[encoded data removed]",
            "text/plain": [
              "<Figure size 720x288 with 1 Axes>"
            ]
          },
          "metadata": {
            "tags": [],
            "needs_background": "light"
          }
        }
      ]
    },
    {
      "cell_type": "code",
      "metadata": {
        "colab": {
          "base_uri": "https://localhost:8080/"
        },
        "id": "m5k-j-2j2MJD",
        "outputId": "f714afd4-0391-4ce8-ccfd-ee22ad9235c3"
      },
      "source": [
        "# Perform the first convolution/activation\n",
        "x = F.relu(conv1(x))\n",
        "print(x.shape)"
      ],
      "execution_count": null,
      "outputs": [
        {
          "output_type": "stream",
          "text": [
            "torch.Size([1, 6, 26, 26])\n"
          ],
          "name": "stdout"
        }
      ]
    },
    {
      "cell_type": "code",
      "metadata": {
        "id": "62aFRruX2V_D"
      },
      "source": [
        "# Run the first pooling layer\n",
        "x = F.max_pool2d(x, 2, 2)\n",
        "# Perform the second convolution/activation\n",
        "x = F.relu(conv2(x))\n"
      ],
      "execution_count": null,
      "outputs": []
    },
    {
      "cell_type": "code",
      "metadata": {
        "colab": {
          "base_uri": "https://localhost:8080/"
        },
        "id": "bvfrk0FA2q37",
        "outputId": "fcd36c6f-4e1e-4e80-a177-533fa5b4ebad"
      },
      "source": [
        "# Run the second pooling layer\n",
        "x = F.max_pool2d(x, 2, 2)\n",
        "# Flatten the data\n",
        "x = x.view(-1, 5*5*16)\n",
        "print(x.shape)"
      ],
      "execution_count": null,
      "outputs": [
        {
          "output_type": "stream",
          "text": [
            "torch.Size([1, 400])\n"
          ],
          "name": "stdout"
        }
      ]
    },
    {
      "cell_type": "code",
      "metadata": {
        "id": "FlD5r6G82zJf"
      },
      "source": [
        "class ConvolutionalNetwork(nn.Module):\n",
        "    def __init__(self):\n",
        "        super().__init__()\n",
        "        self.conv1 = nn.Conv2d(1, 6, 3, 1)\n",
        "        self.conv2 = nn.Conv2d(6, 16, 3, 1)\n",
        "        self.fc1 = nn.Linear(5*5*16, 120)\n",
        "        self.fc2 = nn.Linear(120, 84)\n",
        "        self.fc3 = nn.Linear(84,10)\n",
        "\n",
        "    def forward(self, X):\n",
        "        X = F.relu(self.conv1(X))\n",
        "        X = F.max_pool2d(X, 2, 2)\n",
        "        X = F.relu(self.conv2(X))\n",
        "        X = F.max_pool2d(X, 2, 2)\n",
        "        X = X.view(-1, 5*5*16)\n",
        "        X = F.relu(self.fc1(X))\n",
        "        X = F.relu(self.fc2(X))\n",
        "        X = self.fc3(X)\n",
        "        return F.log_softmax(X, dim=1)"
      ],
      "execution_count": null,
      "outputs": []
    },
    {
      "cell_type": "code",
      "metadata": {
        "colab": {
          "base_uri": "https://localhost:8080/"
        },
        "id": "_zQZ8qdQ232A",
        "outputId": "c71575c1-77ac-41cb-c484-a1c8d7aa8f38"
      },
      "source": [
        "model = ConvolutionalNetwork()\n",
        "model"
      ],
      "execution_count": null,
      "outputs": [
        {
          "output_type": "execute_result",
          "data": {
            "text/plain": [
              "ConvolutionalNetwork(\n",
              "  (conv1): Conv2d(1, 6, kernel_size=(3, 3), stride=(1, 1))\n",
              "  (conv2): Conv2d(6, 16, kernel_size=(3, 3), stride=(1, 1))\n",
              "  (fc1): Linear(in_features=400, out_features=120, bias=True)\n",
              "  (fc2): Linear(in_features=120, out_features=84, bias=True)\n",
              "  (fc3): Linear(in_features=84, out_features=10, bias=True)\n",
              ")"
            ]
          },
          "metadata": {
            "tags": []
          },
          "execution_count": 14
        }
      ]
    },
    {
      "cell_type": "code",
      "metadata": {
        "id": "MzPXW5bK28dH"
      },
      "source": [
        "criterion = nn.CrossEntropyLoss()#defining loss criteria\n",
        "optimizer = torch.optim.Adam(model.parameters(), lr=0.001)#Adam optimizer is used as it found to give better results"
      ],
      "execution_count": null,
      "outputs": []
    },
    {
      "cell_type": "code",
      "metadata": {
        "colab": {
          "base_uri": "https://localhost:8080/"
        },
        "id": "VpPaMFHk3T3-",
        "outputId": "4fb82099-85c8-4702-8757-a9ca0b74571a"
      },
      "source": [
        "import time\n",
        "start_time = time.time()\n",
        "\n",
        "epochs = 5\n",
        "train_losses = []\n",
        "test_losses = []\n",
        "train_correct = []\n",
        "test_correct = []\n",
        "\n",
        "for i in range(epochs):\n",
        "    trn_corr = 0\n",
        "    tst_corr = 0\n",
        "    \n",
        "    # Run the training batches\n",
        "    for b, (X_train, y_train) in enumerate(train_loader):\n",
        "        b+=1\n",
        "        \n",
        "        # Apply the model\n",
        "        y_pred = model(X_train)  # we don't flatten X-train here\n",
        "        loss = criterion(y_pred, y_train)\n",
        " \n",
        "        # Tally the number of correct predictions\n",
        "        predicted = torch.max(y_pred.data, 1)[1]\n",
        "        batch_corr = (predicted == y_train).sum()\n",
        "        trn_corr += batch_corr\n",
        "        \n",
        "        # Update parameters\n",
        "        optimizer.zero_grad()\n",
        "        loss.backward()\n",
        "        optimizer.step()\n",
        "        \n",
        "        # Print interim results\n",
        "        if b%600 == 0:\n",
        "            print(f'epoch: {i:2}  batch: {b:4} [{10*b:6}/60000]  loss: {loss.item():10.8f}  \\\n",
        "accuracy: {trn_corr.item()*100/(10*b):7.3f}%')\n",
        "        \n",
        "    train_losses.append(loss)\n",
        "    train_correct.append(trn_corr)\n",
        "        \n",
        "    # Run the testing batches\n",
        "    with torch.no_grad():\n",
        "        for b, (X_test, y_test) in enumerate(test_loader):\n",
        "\n",
        "            # Apply the model\n",
        "            y_val = model(X_test)\n",
        "\n",
        "            # Tally the number of correct predictions\n",
        "            predicted = torch.max(y_val.data, 1)[1] \n",
        "            tst_corr += (predicted == y_test).sum()\n",
        "            \n",
        "    loss = criterion(y_val, y_test)\n",
        "    test_losses.append(loss)\n",
        "    test_correct.append(tst_corr)\n",
        "        \n",
        "print(f'\\nDuration: {time.time() - start_time:.0f} seconds') # print the time elapsed            "
      ],
      "execution_count": null,
      "outputs": [
        {
          "output_type": "stream",
          "text": [
            "epoch:  0  batch:  600 [  6000/60000]  loss: 0.12849796  accuracy:  73.367%\n",
            "epoch:  0  batch: 1200 [ 12000/60000]  loss: 0.05061589  accuracy:  83.475%\n",
            "epoch:  0  batch: 1800 [ 18000/60000]  loss: 0.01070914  accuracy:  87.172%\n",
            "epoch:  0  batch: 2400 [ 24000/60000]  loss: 0.08332171  accuracy:  89.296%\n",
            "epoch:  0  batch: 3000 [ 30000/60000]  loss: 0.02307832  accuracy:  90.640%\n",
            "epoch:  0  batch: 3600 [ 36000/60000]  loss: 0.13950506  accuracy:  91.619%\n",
            "epoch:  0  batch: 4200 [ 42000/60000]  loss: 0.00171925  accuracy:  92.345%\n",
            "epoch:  0  batch: 4800 [ 48000/60000]  loss: 0.00874098  accuracy:  92.960%\n",
            "epoch:  0  batch: 5400 [ 54000/60000]  loss: 0.22330384  accuracy:  93.437%\n",
            "epoch:  0  batch: 6000 [ 60000/60000]  loss: 0.05189470  accuracy:  93.832%\n",
            "epoch:  1  batch:  600 [  6000/60000]  loss: 0.00234967  accuracy:  97.633%\n",
            "epoch:  1  batch: 1200 [ 12000/60000]  loss: 0.00533757  accuracy:  97.550%\n",
            "epoch:  1  batch: 1800 [ 18000/60000]  loss: 0.04656784  accuracy:  97.583%\n",
            "epoch:  1  batch: 2400 [ 24000/60000]  loss: 0.05469862  accuracy:  97.671%\n",
            "epoch:  1  batch: 3000 [ 30000/60000]  loss: 0.01253242  accuracy:  97.700%\n",
            "epoch:  1  batch: 3600 [ 36000/60000]  loss: 0.00451921  accuracy:  97.797%\n",
            "epoch:  1  batch: 4200 [ 42000/60000]  loss: 0.00650101  accuracy:  97.824%\n",
            "epoch:  1  batch: 4800 [ 48000/60000]  loss: 0.52120882  accuracy:  97.879%\n",
            "epoch:  1  batch: 5400 [ 54000/60000]  loss: 0.00029940  accuracy:  97.880%\n",
            "epoch:  1  batch: 6000 [ 60000/60000]  loss: 0.00765865  accuracy:  97.915%\n",
            "epoch:  2  batch:  600 [  6000/60000]  loss: 0.01703947  accuracy:  98.567%\n",
            "epoch:  2  batch: 1200 [ 12000/60000]  loss: 0.00047622  accuracy:  98.483%\n",
            "epoch:  2  batch: 1800 [ 18000/60000]  loss: 0.00253327  accuracy:  98.439%\n",
            "epoch:  2  batch: 2400 [ 24000/60000]  loss: 0.00023605  accuracy:  98.425%\n",
            "epoch:  2  batch: 3000 [ 30000/60000]  loss: 0.00056460  accuracy:  98.497%\n",
            "epoch:  2  batch: 3600 [ 36000/60000]  loss: 0.00604072  accuracy:  98.519%\n",
            "epoch:  2  batch: 4200 [ 42000/60000]  loss: 0.00338443  accuracy:  98.526%\n",
            "epoch:  2  batch: 4800 [ 48000/60000]  loss: 0.00508403  accuracy:  98.546%\n",
            "epoch:  2  batch: 5400 [ 54000/60000]  loss: 0.00026604  accuracy:  98.554%\n",
            "epoch:  2  batch: 6000 [ 60000/60000]  loss: 0.01233510  accuracy:  98.547%\n",
            "epoch:  3  batch:  600 [  6000/60000]  loss: 0.00072062  accuracy:  98.967%\n",
            "epoch:  3  batch: 1200 [ 12000/60000]  loss: 0.00118972  accuracy:  98.883%\n",
            "epoch:  3  batch: 1800 [ 18000/60000]  loss: 0.03585327  accuracy:  98.822%\n",
            "epoch:  3  batch: 2400 [ 24000/60000]  loss: 0.00071178  accuracy:  98.867%\n",
            "epoch:  3  batch: 3000 [ 30000/60000]  loss: 0.00119170  accuracy:  98.853%\n",
            "epoch:  3  batch: 3600 [ 36000/60000]  loss: 0.00172240  accuracy:  98.875%\n",
            "epoch:  3  batch: 4200 [ 42000/60000]  loss: 0.00100766  accuracy:  98.867%\n",
            "epoch:  3  batch: 4800 [ 48000/60000]  loss: 0.01794773  accuracy:  98.852%\n",
            "epoch:  3  batch: 5400 [ 54000/60000]  loss: 0.04585348  accuracy:  98.846%\n",
            "epoch:  3  batch: 6000 [ 60000/60000]  loss: 0.00048394  accuracy:  98.833%\n",
            "epoch:  4  batch:  600 [  6000/60000]  loss: 0.00042994  accuracy:  99.233%\n",
            "epoch:  4  batch: 1200 [ 12000/60000]  loss: 0.02290733  accuracy:  99.133%\n",
            "epoch:  4  batch: 1800 [ 18000/60000]  loss: 0.02700406  accuracy:  99.117%\n",
            "epoch:  4  batch: 2400 [ 24000/60000]  loss: 0.41445246  accuracy:  99.071%\n",
            "epoch:  4  batch: 3000 [ 30000/60000]  loss: 0.00008648  accuracy:  99.067%\n",
            "epoch:  4  batch: 3600 [ 36000/60000]  loss: 0.00011309  accuracy:  99.128%\n",
            "epoch:  4  batch: 4200 [ 42000/60000]  loss: 0.00387270  accuracy:  99.081%\n",
            "epoch:  4  batch: 4800 [ 48000/60000]  loss: 0.00814152  accuracy:  99.098%\n",
            "epoch:  4  batch: 5400 [ 54000/60000]  loss: 0.00158781  accuracy:  99.063%\n",
            "epoch:  4  batch: 6000 [ 60000/60000]  loss: 0.00332652  accuracy:  99.067%\n",
            "\n",
            "Duration: 157 seconds\n"
          ],
          "name": "stdout"
        }
      ]
    },
    {
      "cell_type": "code",
      "metadata": {
        "colab": {
          "base_uri": "https://localhost:8080/",
          "height": 281
        },
        "id": "LyCdXZWO3_rq",
        "outputId": "29afecfe-08f3-4c98-e298-cb57328bcc42"
      },
      "source": [
        "plt.plot(train_losses, label='training loss')\n",
        "plt.plot(test_losses, label='validation loss')\n",
        "plt.title('Loss at the end of each epoch')\n",
        "plt.legend();"
      ],
      "execution_count": null,
      "outputs": [
        {
          "output_type": "display_data",
          "data": {
            "image/png": "[encoded data removed]",
            "text/plain": [
              "<Figure size 432x288 with 1 Axes>"
            ]
          },
          "metadata": {
            "tags": [],
            "needs_background": "light"
          }
        }
      ]
    },
    {
      "cell_type": "code",
      "metadata": {
        "colab": {
          "base_uri": "https://localhost:8080/",
          "height": 281
        },
        "id": "mw82e-uv4MED",
        "outputId": "58233d9c-3250-4bc1-a29e-373edc791351"
      },
      "source": [
        "plt.plot([t/600 for t in train_correct], label='training accuracy')\n",
        "plt.plot([t/100 for t in test_correct], label='validation accuracy')\n",
        "plt.title('Accuracy at the end of each epoch')\n",
        "plt.legend();"
      ],
      "execution_count": null,
      "outputs": [
        {
          "output_type": "display_data",
          "data": {
            "image/png": "[encoded data removed]",
            "text/plain": [
              "<Figure size 432x288 with 1 Axes>"
            ]
          },
          "metadata": {
            "tags": [],
            "needs_background": "light"
          }
        }
      ]
    },
    {
      "cell_type": "code",
      "metadata": {
        "colab": {
          "base_uri": "https://localhost:8080/"
        },
        "id": "QO70Lmv84QYZ",
        "outputId": "719f5622-32a9-4ec6-c2b5-3cd0a325250e"
      },
      "source": [
        "# Extract the data all at once, not in batches\n",
        "test_load_all = DataLoader(test_data, batch_size=10000, shuffle=False)\n",
        "with torch.no_grad():\n",
        "    correct = 0\n",
        "    for X_test, y_test in test_load_all:\n",
        "        y_val = model(X_test)  # we don't flatten the data this time\n",
        "        predicted = torch.max(y_val,1)[1]\n",
        "        correct += (predicted == y_test).sum()\n",
        "print(f'Test accuracy: {correct.item()}/{len(test_data)} = {correct.item()*100/(len(test_data)):7.3f}%')"
      ],
      "execution_count": null,
      "outputs": [
        {
          "output_type": "stream",
          "text": [
            "Test accuracy: 9852/10000 =  98.520%\n"
          ],
          "name": "stdout"
        }
      ]
    },
    {
      "cell_type": "code",
      "metadata": {
        "colab": {
          "base_uri": "https://localhost:8080/",
          "height": 148
        },
        "id": "h2m4Hc4i4aCW",
        "outputId": "69c11d95-bad7-4642-e7f9-144d88fbbc90"
      },
      "source": [
        "misses = np.array([])\n",
        "for i in range(len(predicted.view(-1))):\n",
        "    if predicted[i] != y_test[i]:\n",
        "        misses = np.append(misses,i).astype('int64')\n",
        "r = 12   # row size\n",
        "row = iter(np.array_split(misses,len(misses)//r+1))\n",
        "nextrow = next(row)\n",
        "print(\"Index:\", nextrow)\n",
        "print(\"Label:\", y_test.index_select(0,torch.tensor(nextrow)).numpy())\n",
        "print(\"Guess:\", predicted.index_select(0,torch.tensor(nextrow)).numpy())\n",
        "\n",
        "images = X_test.index_select(0,torch.tensor(nextrow))\n",
        "im = make_grid(images, nrow=r)\n",
        "plt.figure(figsize=(10,4))\n",
        "plt.imshow(np.transpose(im.numpy(), (1, 2, 0)));        "
      ],
      "execution_count": null,
      "outputs": [
        {
          "output_type": "stream",
          "text": [
            "Index: [ 62 115 149 184 321 340 415 444 445 495 583 659]\n",
            "Label: [9 4 2 8 2 5 7 2 6 8 2 2]\n",
            "Guess: [5 9 3 3 7 3 9 3 0 0 7 7]\n"
          ],
          "name": "stdout"
        },
        {
          "output_type": "display_data",
          "data": {
            "image/png": "[encoded data removed]",
            "text/plain": [
              "<Figure size 720x288 with 1 Axes>"
            ]
          },
          "metadata": {
            "tags": [],
            "needs_background": "light"
          }
        }
      ]
    }
  ]
}